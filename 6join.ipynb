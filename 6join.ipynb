{
 "cells": [
  {
   "attachments": {},
   "cell_type": "markdown",
   "metadata": {},
   "source": [
    "# Summary\n",
    "In this episode, we used database JOIN operations to select photometry data for the stars we’ve identified as candidates to be in GD-1\n",
    "\n",
    "The following figure from the Price-Whelan and Bonaca paper is a color-magnitude diagram for the stars selected based on proper motion:\n",
    "\n",
    "<img src=\"/Users/darykevin/Documents/Python Scripts/Computational Cosmology/Project GD 1/isochrone.png\" alt=\"Alternative text\" width=\"1100\" height=\"400\" />\n",
    "\n",
    "In red is a stellar [isochrone](https://en.wikipedia.org/wiki/Stellar_isochrone), showing where we expect the stars in GD-1 to fall based on the metallicity and age of their original globular cluster.\n",
    "\n",
    "By selecting stars in the shaded area, we can further distinguish the main sequence of GD-1 from younger background stars."
   ]
  },
  {
   "cell_type": "code",
   "execution_count": 21,
   "metadata": {},
   "outputs": [],
   "source": [
    "from astroquery.gaia import Gaia\n",
    "from astropy.coordinates import SkyCoord\n",
    "import astropy.units as u\n",
    "from gala.coordinates import GD1Koposov10, GD1, reflex_correct\n",
    "import pandas as pd"
   ]
  },
  {
   "cell_type": "code",
   "execution_count": 2,
   "metadata": {},
   "outputs": [
    {
     "data": {
      "text/plain": [
       "sky_point_list    135.306, 8.39862, 126.51, 13.4449, 163.017, 54...\n",
       "pmra_min                                                       -6.7\n",
       "pmra_max                                                         -3\n",
       "pmdec_min                                                    -14.31\n",
       "pmdec_max                                                     -11.2\n",
       "dtype: object"
      ]
     },
     "execution_count": 2,
     "metadata": {},
     "output_type": "execute_result"
    }
   ],
   "source": [
    "filename = 'gd1_data.hdf'\n",
    "point_series = pd.read_hdf(filename, 'point_series')\n",
    "sky_point_list = point_series['sky_point_list']\n",
    "pmra_min = point_series['pmra_min']\n",
    "pmra_max = point_series['pmra_max']\n",
    "pmdec_min = point_series['pmdec_min']\n",
    "pmdec_max = point_series['pmdec_max']\n",
    "point_series"
   ]
  },
  {
   "attachments": {},
   "cell_type": "markdown",
   "metadata": {},
   "source": [
    "# Getting photometry data"
   ]
  },
  {
   "attachments": {},
   "cell_type": "markdown",
   "metadata": {},
   "source": [
    "The Gaia dataset contains some photometry data, including the variable `bp_rp`, which contains BP-RP color (the difference in mean flux between the BP and RP bands). We use this variable to select stars with `bp_rp` between -0.75 and 2, which excludes many class M dwarf stars.\n",
    "\n",
    "But we can do better than that. Assuming GD-1 is a globular cluster, all of the stars formed at the same time from the same material, so the stars’ photometric properties should be consistent with a single isochrone in a color magnitude diagram. We can use photometric color and apparent magnitude to select stars with the age and metal richness we expect in GD-1. However, the broad Gaia photometric bands (G, BP, RP) are not optimized for this task, instead we will use the more narrow photometric bands available from the Pan-STARRS survey to obtain the `g-i` color and apparent `g`-band magnitude.\n",
    "\n",
    "Conveniently, the Gaia server provides data from Pan-STARRS as a table in the same database we have been using, so we can access it by making ADQL queries.\n",
    "\n",
    "Documentation for Cross-Matching: [LINK](https://gea.esac.esa.int/archive/documentation/GDR2/Catalogue_consolidation/chap_cu9val_cu9val/ssec_cu9xma/sssec_cu9xma_extcat.html)"
   ]
  },
  {
   "attachments": {},
   "cell_type": "markdown",
   "metadata": {},
   "source": [
    "# The best neighbor table"
   ]
  },
  {
   "attachments": {},
   "cell_type": "markdown",
   "metadata": {},
   "source": [
    "In this example:\n",
    "\n",
    "* Stars in the Gaia dataset are identified by `source_id`.\n",
    "\n",
    "* Stars in the Pan-STARRS dataset are identified by `obj_id`.\n",
    "\n",
    "For each candidate star we have selected so far, we have the source_id; the goal is to find the `obj_id` for the same star in the Pan-STARRS catalog.\n",
    "\n",
    "To do that we will:\n",
    "\n",
    "Use the `JOIN` operator to look up each Pan-STARRS `obj_id` for the stars we are interested in in the `panstarrs1_best_neighbour` table using the source_ids that we have already identified.\n",
    "\n",
    "Use the `JOIN` operator again to look up the Pan-STARRS photometry for these stars in the `panstarrs1_original_valid` table using the `obj_ids` we just identified.\n",
    "\n",
    "Before we get to the JOIN operation, we will explore these tables."
   ]
  },
  {
   "cell_type": "code",
   "execution_count": 3,
   "metadata": {},
   "outputs": [
    {
     "name": "stdout",
     "output_type": "stream",
     "text": [
      "Retrieving table 'gaiadr2.panstarrs1_best_neighbour'\n"
     ]
    }
   ],
   "source": [
    "ps_best_neighbour_meta = Gaia.load_table('gaiadr2.panstarrs1_best_neighbour')"
   ]
  },
  {
   "cell_type": "code",
   "execution_count": 4,
   "metadata": {},
   "outputs": [
    {
     "name": "stdout",
     "output_type": "stream",
     "text": [
      "TAP Table name: gaiadr2.gaiadr2.panstarrs1_best_neighbour\n",
      "Description: Pan-STARRS1 BestNeighbour table lists each matched Gaia object with its\n",
      "best neighbour in the external catalogue.\n",
      "There are 1 327 157 objects in the filtered version of Pan-STARRS1 used\n",
      "to compute this cross-match that have too early epochMean.\n",
      "Num. columns: 7\n"
     ]
    }
   ],
   "source": [
    "print(ps_best_neighbour_meta)"
   ]
  },
  {
   "cell_type": "code",
   "execution_count": 5,
   "metadata": {},
   "outputs": [
    {
     "name": "stdout",
     "output_type": "stream",
     "text": [
      "source_id\n",
      "original_ext_source_id\n",
      "angular_distance\n",
      "number_of_neighbours\n",
      "number_of_mates\n",
      "best_neighbour_multiplicity\n",
      "gaia_astrometric_params\n"
     ]
    }
   ],
   "source": [
    "# And here are the columns.\n",
    "for column in ps_best_neighbour_meta.columns:\n",
    "    print(column.name)"
   ]
  },
  {
   "attachments": {},
   "cell_type": "markdown",
   "metadata": {},
   "source": [
    "Documentation for the above headings: [LINK](https://gea.esac.esa.int/archive/documentation/GDR2/Gaia_archive/chap_datamodel/sec_dm_crossmatches/ssec_dm_panstarrs1_best_neighbour.html)"
   ]
  },
  {
   "attachments": {},
   "cell_type": "markdown",
   "metadata": {},
   "source": [
    "The ones we will use are:\n",
    "\n",
    "`source_id`, which we will match up with `source_id` in the Gaia table.\n",
    "\n",
    "`best_neighbour_multiplicity`, which indicates how many sources in Pan-STARRS are matched with the same probability to this source in Gaia.\n",
    "\n",
    "`number_of_mates`, which indicates the number of other sources in Gaia that are matched with the same source in Pan-STARRS.\n",
    "\n",
    "``original_ext_source_id``, which we will match up with ``obj_id`` in the Pan-STARRS table.\n",
    "\n",
    "Ideally, `best_neighbour_multiplicity` should be 1 and number_of_mates should be 0; in that case, there is a one-to-one match between the source in Gaia and the corresponding source in Pan-STARRS.\n",
    "\n",
    "Here is a query that selects these columns and returns the first 5 rows"
   ]
  },
  {
   "attachments": {},
   "cell_type": "markdown",
   "metadata": {},
   "source": [
    "# The Pan-STARRS table"
   ]
  },
  {
   "attachments": {},
   "cell_type": "markdown",
   "metadata": {},
   "source": [
    "Now that we know the Pan-STARRS `obj_id`, we are ready to match this to the photometry in the `panstarrs1_original_valid` table. Here is the metadata for the table that contains the Pan-STARRS data."
   ]
  },
  {
   "cell_type": "code",
   "execution_count": 6,
   "metadata": {},
   "outputs": [
    {
     "name": "stdout",
     "output_type": "stream",
     "text": [
      "Retrieving table 'gaiadr2.panstarrs1_original_valid'\n"
     ]
    }
   ],
   "source": [
    "ps_valid_meta = Gaia.load_table('gaiadr2.panstarrs1_original_valid')"
   ]
  },
  {
   "cell_type": "code",
   "execution_count": 7,
   "metadata": {},
   "outputs": [
    {
     "name": "stdout",
     "output_type": "stream",
     "text": [
      "TAP Table name: gaiadr2.gaiadr2.panstarrs1_original_valid\n",
      "Description: The Panoramic Survey Telescope and Rapid Response System (Pan-STARRS) is\n",
      "a system for wide-field astronomical imaging developed and operated by\n",
      "the Institute for Astronomy at the University of Hawaii. Pan-STARRS1\n",
      "(PS1) is the first part of Pan-STARRS to be completed and is the basis\n",
      "for Data Release 1 (DR1). The PS1 survey used a 1.8 meter telescope and\n",
      "its 1.4 Gigapixel camera to image the sky in five broadband filters (g,\n",
      "r, i, z, y).\n",
      "\n",
      "The current table contains a filtered subsample of the 10 723 304 629\n",
      "entries listed in the original ObjectThin table.\n",
      "We used only ObjectThin and MeanObject tables to extract\n",
      "panstarrs1OriginalValid table, this means that objects detected only in\n",
      "stack images are not included here. The main reason for us to avoid the\n",
      "use of objects detected in stack images is that their astrometry is not\n",
      "as good as the mean objects astrometry: “The stack positions (raStack,\n",
      "decStack) have considerably larger systematic astrometric errors than\n",
      "the mean epoch positions (raMean, decMean).” The astrometry for the\n",
      "MeanObject positions uses Gaia DR1 as a reference catalog, while the\n",
      "stack positions use 2MASS as a reference catalog.\n",
      "\n",
      "In details, we filtered out all objects where:\n",
      "\n",
      "-   nDetections = 1\n",
      "\n",
      "-   no good quality data in Pan-STARRS, objInfoFlag 33554432 not set\n",
      "\n",
      "-   mean astrometry could not be measured, objInfoFlag 524288 set\n",
      "\n",
      "-   stack position used for mean astrometry, objInfoFlag 1048576 set\n",
      "\n",
      "-   error on all magnitudes equal to 0 or to -999;\n",
      "\n",
      "-   all magnitudes set to -999;\n",
      "\n",
      "-   error on RA or DEC greater than 1 arcsec.\n",
      "\n",
      "The number of objects in panstarrs1OriginalValid is 2 264 263 282.\n",
      "\n",
      "The panstarrs1OriginalValid table contains only a subset of the columns\n",
      "available in the combined ObjectThin and MeanObject tables. A\n",
      "description of the original ObjectThin and MeanObjects tables can be\n",
      "found at:\n",
      "https://outerspace.stsci.edu/display/PANSTARRS/PS1+Database+object+and+detection+tables\n",
      "\n",
      "Download:\n",
      "http://mastweb.stsci.edu/ps1casjobs/home.aspx\n",
      "Documentation:\n",
      "https://outerspace.stsci.edu/display/PANSTARRS\n",
      "http://pswww.ifa.hawaii.edu/pswww/\n",
      "References:\n",
      "The Pan-STARRS1 Surveys, Chambers, K.C., et al. 2016, arXiv:1612.05560\n",
      "Pan-STARRS Data Processing System, Magnier, E. A., et al. 2016,\n",
      "arXiv:1612.05240\n",
      "Pan-STARRS Pixel Processing: Detrending, Warping, Stacking, Waters, C.\n",
      "Z., et al. 2016, arXiv:1612.05245\n",
      "Pan-STARRS Pixel Analysis: Source Detection and Characterization,\n",
      "Magnier, E. A., et al. 2016, arXiv:1612.05244\n",
      "Pan-STARRS Photometric and Astrometric Calibration, Magnier, E. A., et\n",
      "al. 2016, arXiv:1612.05242\n",
      "The Pan-STARRS1 Database and Data Products, Flewelling, H. A., et al.\n",
      "2016, arXiv:1612.05243\n",
      "\n",
      "Catalogue curator:\n",
      "SSDC - ASI Space Science Data Center\n",
      "https://www.ssdc.asi.it/\n",
      "Num. columns: 26\n"
     ]
    }
   ],
   "source": [
    "print(ps_valid_meta)"
   ]
  },
  {
   "cell_type": "code",
   "execution_count": 8,
   "metadata": {},
   "outputs": [
    {
     "name": "stdout",
     "output_type": "stream",
     "text": [
      "obj_name\n",
      "obj_id\n",
      "ra\n",
      "dec\n",
      "ra_error\n",
      "dec_error\n",
      "epoch_mean\n",
      "g_mean_psf_mag\n",
      "g_mean_psf_mag_error\n",
      "g_flags\n",
      "r_mean_psf_mag\n",
      "r_mean_psf_mag_error\n",
      "r_flags\n",
      "i_mean_psf_mag\n",
      "i_mean_psf_mag_error\n",
      "i_flags\n",
      "z_mean_psf_mag\n",
      "z_mean_psf_mag_error\n",
      "z_flags\n",
      "y_mean_psf_mag\n",
      "y_mean_psf_mag_error\n",
      "y_flags\n",
      "n_detections\n",
      "zone_id\n",
      "obj_info_flag\n",
      "quality_flag\n"
     ]
    }
   ],
   "source": [
    "for column in ps_valid_meta.columns:\n",
    "    print(column.name)"
   ]
  },
  {
   "attachments": {},
   "cell_type": "markdown",
   "metadata": {},
   "source": [
    "Documentation for the above headings: [LINK](https://gea.esac.esa.int/archive/documentation/GDR2/Gaia_archive/chap_datamodel/sec_dm_external_catalogues/ssec_dm_panstarrs1_original_valid.html)\n",
    "\n",
    "The ones we will use are:\n",
    "\n",
    "* `obj_id`, which we will match up with original_ext_source_id in the best neighbor table.\n",
    "\n",
    "* `g_mean_psf_mag`, which contains mean magnitude from the g filter.\n",
    "\n",
    "* `i_mean_psf_mag`, which contains mean magnitude from the i filter."
   ]
  },
  {
   "attachments": {},
   "cell_type": "markdown",
   "metadata": {},
   "source": [
    "# Joining Tables"
   ]
  },
  {
   "attachments": {},
   "cell_type": "markdown",
   "metadata": {},
   "source": [
    "The following figure shows how these tables are related.\n",
    "\n",
    "* The orange circles and arrows represent the first `JOIN` operation, which takes each `source_id` in the Gaia table and finds the same value of `source_id` in the best neighbor table.\n",
    "\n",
    "* The blue circles and arrows represent the second `JOIN` operation, which takes each `original_ext_source_id` in the Gaia table and finds the same value of `obj_id` in the best neighbor table.\n",
    "\n",
    "<img src=\"/Users/darykevin/Documents/Python Scripts/Computational Cosmology/Project GD 1/join.png\" alt=\"Alternative text\" width=\"1000\" height=\"600\" />\n",
    "\n",
    "There is no guarantee that the corresponding rows of these tables are in the same order, so the `JOIN` operation involves some searching. However, ADQL/SQL databases are implemented in a way that makes this kind of search efficient. If you are curious, [you can read more about it](https://chartio.com/learn/databases/how-does-indexing-work/)."
   ]
  },
  {
   "attachments": {},
   "cell_type": "markdown",
   "metadata": {},
   "source": [
    "# Selecting by coordinates and proper motion"
   ]
  },
  {
   "cell_type": "code",
   "execution_count": 11,
   "metadata": {},
   "outputs": [
    {
     "name": "stdout",
     "output_type": "stream",
     "text": [
      "\n",
      "SELECT \n",
      "gaia.source_id, gaia.ra, gaia.dec, gaia.pmra, gaia.pmdec, best.best_neighbour_multiplicity, best.number_of_mates, ps.g_mean_psf_mag, ps.i_mean_psf_mag\n",
      "FROM gaiadr2.gaia_source as gaia\n",
      "JOIN gaiadr2.panstarrs1_best_neighbour as best\n",
      "  ON gaia.source_id = best.source_id\n",
      "JOIN gaiadr2.panstarrs1_original_valid as ps\n",
      "  ON best.original_ext_source_id = ps.obj_id\n",
      "WHERE parallax < 1\n",
      "  AND bp_rp BETWEEN -0.75 AND 2 \n",
      "  AND 1 = CONTAINS(POINT(gaia.ra, gaia.dec), \n",
      "                   POLYGON(135.306, 8.39862, 126.51, 13.4449, 163.017, 54.2424, 172.933, 46.4726, 135.306, 8.39862))\n",
      "  AND gaia.pmra BETWEEN -6.7 AND  -3\n",
      "  AND gaia.pmdec BETWEEN -14.31 AND -11.2\n",
      "\n",
      "INFO: Query finished. [astroquery.utils.tap.core]\n"
     ]
    },
    {
     "data": {
      "text/html": [
       "<div><i>Table length=4300</i>\n",
       "<table id=\"table5112809504\" class=\"table-striped table-bordered table-condensed\">\n",
       "<thead><tr><th>source_id</th><th>ra</th><th>dec</th><th>pmra</th><th>pmdec</th><th>best_neighbour_multiplicity</th><th>number_of_mates</th><th>g_mean_psf_mag</th><th>i_mean_psf_mag</th></tr></thead>\n",
       "<thead><tr><th></th><th>deg</th><th>deg</th><th>mas / yr</th><th>mas / yr</th><th></th><th></th><th></th><th>mag</th></tr></thead>\n",
       "<thead><tr><th>int64</th><th>float64</th><th>float64</th><th>float64</th><th>float64</th><th>int16</th><th>int16</th><th>float64</th><th>float64</th></tr></thead>\n",
       "<tr><td>635860218726658176</td><td>138.5187065217173</td><td>19.09233926905897</td><td>-5.941679495793577</td><td>-11.346409129876392</td><td>1</td><td>0</td><td>17.8978004455566</td><td>17.5174007415771</td></tr>\n",
       "<tr><td>635674126383965568</td><td>138.8428741026386</td><td>19.031798198627634</td><td>-3.8970011609340207</td><td>-12.702779525389634</td><td>1</td><td>0</td><td>19.2873001098633</td><td>17.6781005859375</td></tr>\n",
       "<tr><td>635614168640132864</td><td>139.59219748145836</td><td>18.807955539071433</td><td>-3.309602916796381</td><td>-13.708904908478631</td><td>1</td><td>0</td><td>16.1515998840332</td><td>14.6662998199463</td></tr>\n",
       "<tr><td>635694467349085056</td><td>139.06182692172476</td><td>19.06744237567232</td><td>-3.0674889862265795</td><td>-11.4175270465402</td><td>1</td><td>0</td><td>18.6709003448486</td><td>17.9841995239258</td></tr>\n",
       "<tr><td>635598607974369792</td><td>139.20920023089508</td><td>18.624132868942702</td><td>-6.124445176881091</td><td>-12.833824027100611</td><td>1</td><td>0</td><td>16.5223999023438</td><td>16.1375007629395</td></tr>\n",
       "<tr><td>635850945892748672</td><td>139.86542888472115</td><td>20.011312663154804</td><td>-3.786655365804428</td><td>-14.28415600718206</td><td>1</td><td>0</td><td>16.5174999237061</td><td>16.0450000762939</td></tr>\n",
       "<tr><td>635600532119713664</td><td>139.22869949616816</td><td>18.685939084485494</td><td>-3.9742788217925122</td><td>-12.342426623384245</td><td>1</td><td>0</td><td>20.4505996704102</td><td>19.5177001953125</td></tr>\n",
       "<tr><td>635620701286087424</td><td>139.6862822364899</td><td>18.881113520820737</td><td>-3.3558418379356474</td><td>-12.925224236202752</td><td>1</td><td>0</td><td>20.4113006591797</td><td>19.5032997131348</td></tr>\n",
       "<tr><td>635740204456128896</td><td>139.98945182326287</td><td>19.27694306975315</td><td>-3.5117247908083487</td><td>-11.701695774207732</td><td>1</td><td>0</td><td>15.8247995376587</td><td>15.2495002746582</td></tr>\n",
       "<tr><td>...</td><td>...</td><td>...</td><td>...</td><td>...</td><td>...</td><td>...</td><td>...</td><td>...</td></tr>\n",
       "<tr><td>612332147361443072</td><td>134.14584721363653</td><td>18.45685585044513</td><td>-6.234287981021865</td><td>-11.500464195695072</td><td>1</td><td>0</td><td>21.3848991394043</td><td>20.3076000213623</td></tr>\n",
       "<tr><td>612426744016802432</td><td>134.68522805061076</td><td>18.77090626983678</td><td>-3.7691372464459554</td><td>-12.889167493118862</td><td>1</td><td>0</td><td>17.8281002044678</td><td>17.4281005859375</td></tr>\n",
       "<tr><td>612331739340341760</td><td>134.12176196902254</td><td>18.42768872157865</td><td>-3.9894012386388735</td><td>-12.60504410507441</td><td>1</td><td>0</td><td>21.8656997680664</td><td>19.5223007202148</td></tr>\n",
       "<tr><td>612443644711947136</td><td>134.44394029344804</td><td>18.869896081600455</td><td>-6.02535420019159</td><td>-14.291597299266629</td><td>1</td><td>0</td><td>19.1832008361816</td><td>--</td></tr>\n",
       "<tr><td>612310294567826816</td><td>133.89784136868883</td><td>18.401507519623106</td><td>-6.3316689266051585</td><td>-13.885657460991828</td><td>1</td><td>0</td><td>22.1788997650146</td><td>19.9708003997803</td></tr>\n",
       "<tr><td>612386332668697600</td><td>135.45701048323093</td><td>18.63266345155342</td><td>-5.07684899854408</td><td>-12.436641304786672</td><td>1</td><td>0</td><td>19.3792991638184</td><td>17.9923000335693</td></tr>\n",
       "<tr><td>612296172717818624</td><td>133.80060286960668</td><td>18.08186533343457</td><td>-6.112792578821885</td><td>-12.50750861370402</td><td>1</td><td>0</td><td>17.4944000244141</td><td>16.926700592041</td></tr>\n",
       "<tr><td>612394926899159168</td><td>135.51997060013844</td><td>18.817675531233004</td><td>-3.9968965218753763</td><td>-13.526821099431533</td><td>1</td><td>0</td><td>16.4414005279541</td><td>15.8212003707886</td></tr>\n",
       "<tr><td>612256418500423168</td><td>134.90752972739924</td><td>18.280596648172743</td><td>-6.109836304219565</td><td>-12.145212331165776</td><td>1</td><td>0</td><td>20.8715991973877</td><td>19.9612007141113</td></tr>\n",
       "<tr><td>612288755307666176</td><td>134.08278872856837</td><td>18.13927459636531</td><td>-3.8479413100280895</td><td>-11.333935410818446</td><td>1</td><td>0</td><td>17.3677005767822</td><td>16.392599105835</td></tr>\n",
       "</table></div>"
      ],
      "text/plain": [
       "<Table length=4300>\n",
       "    source_id              ra         ...  g_mean_psf_mag   i_mean_psf_mag \n",
       "                          deg         ...                        mag       \n",
       "      int64             float64       ...     float64          float64     \n",
       "------------------ ------------------ ... ---------------- ----------------\n",
       "635860218726658176  138.5187065217173 ... 17.8978004455566 17.5174007415771\n",
       "635674126383965568  138.8428741026386 ... 19.2873001098633 17.6781005859375\n",
       "635614168640132864 139.59219748145836 ... 16.1515998840332 14.6662998199463\n",
       "635694467349085056 139.06182692172476 ... 18.6709003448486 17.9841995239258\n",
       "635598607974369792 139.20920023089508 ... 16.5223999023438 16.1375007629395\n",
       "635850945892748672 139.86542888472115 ... 16.5174999237061 16.0450000762939\n",
       "635600532119713664 139.22869949616816 ... 20.4505996704102 19.5177001953125\n",
       "635620701286087424  139.6862822364899 ... 20.4113006591797 19.5032997131348\n",
       "635740204456128896 139.98945182326287 ... 15.8247995376587 15.2495002746582\n",
       "               ...                ... ...              ...              ...\n",
       "612332147361443072 134.14584721363653 ... 21.3848991394043 20.3076000213623\n",
       "612426744016802432 134.68522805061076 ... 17.8281002044678 17.4281005859375\n",
       "612331739340341760 134.12176196902254 ... 21.8656997680664 19.5223007202148\n",
       "612443644711947136 134.44394029344804 ... 19.1832008361816               --\n",
       "612310294567826816 133.89784136868883 ... 22.1788997650146 19.9708003997803\n",
       "612386332668697600 135.45701048323093 ... 19.3792991638184 17.9923000335693\n",
       "612296172717818624 133.80060286960668 ... 17.4944000244141  16.926700592041\n",
       "612394926899159168 135.51997060013844 ... 16.4414005279541 15.8212003707886\n",
       "612256418500423168 134.90752972739924 ... 20.8715991973877 19.9612007141113\n",
       "612288755307666176 134.08278872856837 ... 17.3677005767822  16.392599105835"
      ]
     },
     "execution_count": 11,
     "metadata": {},
     "output_type": "execute_result"
    }
   ],
   "source": [
    "columns = 'source_id, ra, dec, pmra, pmdec'\n",
    "\n",
    "candidate_join_query_base = \"\"\"\n",
    "SELECT \n",
    "{columns}\n",
    "FROM gaiadr2.gaia_source as gaia\n",
    "JOIN gaiadr2.panstarrs1_best_neighbour as best\n",
    "  ON gaia.source_id = best.source_id\n",
    "JOIN gaiadr2.panstarrs1_original_valid as ps\n",
    "  ON best.original_ext_source_id = ps.obj_id\n",
    "WHERE parallax < 1\n",
    "  AND bp_rp BETWEEN -0.75 AND 2 \n",
    "  AND 1 = CONTAINS(POINT(gaia.ra, gaia.dec), \n",
    "                   POLYGON({sky_point_list}))\n",
    "  AND gaia.pmra BETWEEN {pmra_min} AND  {pmra_max}\n",
    "  AND gaia.pmdec BETWEEN {pmdec_min} AND {pmdec_max}\n",
    "\"\"\"\n",
    "column_list = ['gaia.source_id',\n",
    "               'gaia.ra',\n",
    "               'gaia.dec',\n",
    "               'gaia.pmra',\n",
    "               'gaia.pmdec',\n",
    "               'best.best_neighbour_multiplicity',\n",
    "               'best.number_of_mates',\n",
    "               'ps.g_mean_psf_mag',\n",
    "               'ps.i_mean_psf_mag']\n",
    "\n",
    "columns = ', '.join(column_list)\n",
    "\n",
    "candidate_join_query = candidate_join_query_base.format(columns=columns,\n",
    "                            sky_point_list= sky_point_list,\n",
    "                            pmra_min=pmra_min,\n",
    "                            pmra_max=pmra_max,\n",
    "                            pmdec_min=pmdec_min,\n",
    "                            pmdec_max=pmdec_max)\n",
    "print(candidate_join_query)\n",
    "\n",
    "\n",
    "candidate_join_job = Gaia.launch_job_async(candidate_join_query)\n",
    "candidate_table = candidate_join_job.get_results()\n",
    "candidate_table"
   ]
  },
  {
   "attachments": {},
   "cell_type": "markdown",
   "metadata": {},
   "source": [
    "# Checking the match"
   ]
  },
  {
   "attachments": {},
   "cell_type": "markdown",
   "metadata": {},
   "source": [
    "To get more information about the matching process, we can inspect `best_neighbour_multiplicity`, which indicates for each star in Gaia how many stars in Pan-STARRS are equally likely matches."
   ]
  },
  {
   "cell_type": "code",
   "execution_count": 12,
   "metadata": {},
   "outputs": [
    {
     "data": {
      "text/html": [
       "&lt;MaskedColumn name=&apos;best_neighbour_multiplicity&apos; dtype=&apos;int16&apos; description=&apos;Number of neighbours with same probability as best neighbour&apos; length=4300&gt;\n",
       "<table>\n",
       "<tr><td>1</td></tr>\n",
       "<tr><td>1</td></tr>\n",
       "<tr><td>1</td></tr>\n",
       "<tr><td>1</td></tr>\n",
       "<tr><td>1</td></tr>\n",
       "<tr><td>1</td></tr>\n",
       "<tr><td>1</td></tr>\n",
       "<tr><td>1</td></tr>\n",
       "<tr><td>1</td></tr>\n",
       "<tr><td>1</td></tr>\n",
       "<tr><td>1</td></tr>\n",
       "<tr><td>1</td></tr>\n",
       "<tr><td>...</td></tr>\n",
       "<tr><td>1</td></tr>\n",
       "<tr><td>1</td></tr>\n",
       "<tr><td>1</td></tr>\n",
       "<tr><td>1</td></tr>\n",
       "<tr><td>1</td></tr>\n",
       "<tr><td>1</td></tr>\n",
       "<tr><td>1</td></tr>\n",
       "<tr><td>1</td></tr>\n",
       "<tr><td>1</td></tr>\n",
       "<tr><td>1</td></tr>\n",
       "<tr><td>1</td></tr>\n",
       "<tr><td>1</td></tr>\n",
       "</table>"
      ],
      "text/plain": [
       "<MaskedColumn name='best_neighbour_multiplicity' dtype='int16' description='Number of neighbours with same probability as best neighbour' length=4300>\n",
       "  1\n",
       "  1\n",
       "  1\n",
       "  1\n",
       "  1\n",
       "  1\n",
       "  1\n",
       "  1\n",
       "  1\n",
       "  1\n",
       "  1\n",
       "  1\n",
       "...\n",
       "  1\n",
       "  1\n",
       "  1\n",
       "  1\n",
       "  1\n",
       "  1\n",
       "  1\n",
       "  1\n",
       "  1\n",
       "  1\n",
       "  1\n",
       "  1"
      ]
     },
     "execution_count": 12,
     "metadata": {},
     "output_type": "execute_result"
    }
   ],
   "source": [
    "candidate_table['best_neighbour_multiplicity']"
   ]
  },
  {
   "attachments": {},
   "cell_type": "markdown",
   "metadata": {},
   "source": [
    "Most of the values are `1`, which is good; that means that for each candidate star we have identified exactly one source in Pan-STARRS that is likely to be the same star.\n",
    "\n",
    "To check whether there are any values other than 1, we can convert this column to a Pandas `Series` and use `describe`"
   ]
  },
  {
   "cell_type": "code",
   "execution_count": 13,
   "metadata": {},
   "outputs": [
    {
     "data": {
      "text/plain": [
       "count    4300.0\n",
       "mean        1.0\n",
       "std         0.0\n",
       "min         1.0\n",
       "25%         1.0\n",
       "50%         1.0\n",
       "75%         1.0\n",
       "max         1.0\n",
       "dtype: float64"
      ]
     },
     "execution_count": 13,
     "metadata": {},
     "output_type": "execute_result"
    }
   ],
   "source": [
    "multiplicity = pd.Series(candidate_table['best_neighbour_multiplicity'])\n",
    "multiplicity.describe()"
   ]
  },
  {
   "attachments": {},
   "cell_type": "markdown",
   "metadata": {},
   "source": [
    "Similarly, `number_of_mates` indicates the number of other stars in Gaia that match with the same star in Pan-STARRS."
   ]
  },
  {
   "cell_type": "code",
   "execution_count": 14,
   "metadata": {},
   "outputs": [
    {
     "data": {
      "text/plain": [
       "count    4300.0\n",
       "mean        0.0\n",
       "std         0.0\n",
       "min         0.0\n",
       "25%         0.0\n",
       "50%         0.0\n",
       "75%         0.0\n",
       "max         0.0\n",
       "dtype: float64"
      ]
     },
     "execution_count": 14,
     "metadata": {},
     "output_type": "execute_result"
    }
   ],
   "source": [
    "mates = pd.Series(candidate_table['number_of_mates'])\n",
    "mates.describe()"
   ]
  },
  {
   "attachments": {},
   "cell_type": "markdown",
   "metadata": {},
   "source": [
    "All values in this column are `0`, which means that for each match we found in Pan-STARRS, there are no other stars in Gaia that also match."
   ]
  },
  {
   "attachments": {},
   "cell_type": "markdown",
   "metadata": {},
   "source": [
    "# Saving the DataFrame"
   ]
  },
  {
   "cell_type": "code",
   "execution_count": 15,
   "metadata": {},
   "outputs": [],
   "source": [
    "def make_dataframe(table):\n",
    "    \"\"\"Transform coordinates from ICRS to GD-1 frame.\n",
    "    \n",
    "    table: Astropy Table\n",
    "    \n",
    "    returns: Pandas DataFrame\n",
    "    \"\"\"\n",
    "    #Create a SkyCoord object with the coordinates and proper motions\n",
    "    # in the input table\n",
    "    skycoord = SkyCoord(\n",
    "               ra=table['ra'], \n",
    "               dec=table['dec'],\n",
    "               pm_ra_cosdec=table['pmra'],\n",
    "               pm_dec=table['pmdec'], \n",
    "               distance=8*u.kpc, \n",
    "               radial_velocity=0*u.km/u.s)\n",
    "\n",
    "    # Define the GD-1 reference frame\n",
    "    gd1_frame = GD1Koposov10()\n",
    "\n",
    "    # Transform input coordinates to the GD-1 reference frame\n",
    "    transformed = skycoord.transform_to(gd1_frame)\n",
    "\n",
    "    # Correct GD-1 coordinates for solar system motion around galactic center\n",
    "    skycoord_gd1 = reflex_correct(transformed)\n",
    "\n",
    "    #Add GD-1 reference frame columns for coordinates and proper motions\n",
    "    table['phi1'] = skycoord_gd1.phi1\n",
    "    table['phi2'] = skycoord_gd1.phi2\n",
    "    table['pm_phi1'] = skycoord_gd1.pm_phi1_cosphi2\n",
    "    table['pm_phi2'] = skycoord_gd1.pm_phi2\n",
    "\n",
    "    # Create DataFrame\n",
    "    df = table.to_pandas()\n",
    "\n",
    "    return df"
   ]
  },
  {
   "cell_type": "code",
   "execution_count": 22,
   "metadata": {},
   "outputs": [],
   "source": [
    "candidate_df = make_dataframe(candidate_table)"
   ]
  },
  {
   "cell_type": "code",
   "execution_count": 23,
   "metadata": {},
   "outputs": [],
   "source": [
    "filename = 'gd1_data.hdf'\n",
    "\n",
    "candidate_df.to_hdf(filename, 'candidate_df')"
   ]
  },
  {
   "cell_type": "code",
   "execution_count": 24,
   "metadata": {},
   "outputs": [
    {
     "data": {
      "text/plain": [
       "15.422508239746094"
      ]
     },
     "execution_count": 24,
     "metadata": {},
     "output_type": "execute_result"
    }
   ],
   "source": [
    "from os.path import getsize\n",
    "\n",
    "MB = 1024 * 1024\n",
    "getsize(filename) / MB"
   ]
  },
  {
   "cell_type": "code",
   "execution_count": null,
   "metadata": {},
   "outputs": [],
   "source": []
  }
 ],
 "metadata": {
  "kernelspec": {
   "display_name": "base",
   "language": "python",
   "name": "python3"
  },
  "language_info": {
   "codemirror_mode": {
    "name": "ipython",
    "version": 3
   },
   "file_extension": ".py",
   "mimetype": "text/x-python",
   "name": "python",
   "nbconvert_exporter": "python",
   "pygments_lexer": "ipython3",
   "version": "3.9.13"
  },
  "orig_nbformat": 4
 },
 "nbformat": 4,
 "nbformat_minor": 2
}
