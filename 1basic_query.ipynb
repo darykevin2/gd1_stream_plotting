{
 "cells": [
  {
   "attachments": {},
   "cell_type": "markdown",
   "metadata": {},
   "source": [
    "# Outline\n",
    "This episode will demonstrate the following steps:\n",
    "\n",
    "* Making a connection to the Gaia server,\n",
    "\n",
    "* Exploring information about the database and the tables it contains,\n",
    "\n",
    "* Writing a query and sending it to the server, and finally\n",
    "\n",
    "* Downloading the response from the server as an Astropy Table."
   ]
  },
  {
   "attachments": {},
   "cell_type": "markdown",
   "metadata": {},
   "source": [
    "# Connecting to Gia"
   ]
  },
  {
   "cell_type": "code",
   "execution_count": 2,
   "metadata": {},
   "outputs": [],
   "source": [
    "from astroquery.gaia import Gaia"
   ]
  },
  {
   "attachments": {},
   "cell_type": "markdown",
   "metadata": {},
   "source": [
    "We can use Gaia.load_tables to get the names of the tables in the Gaia database. With the option only_names=True, it loads information about the tables, called “metadata”, but not the data itself."
   ]
  },
  {
   "cell_type": "code",
   "execution_count": 3,
   "metadata": {},
   "outputs": [
    {
     "name": "stdout",
     "output_type": "stream",
     "text": [
      "INFO: Retrieving tables... [astroquery.utils.tap.core]\n",
      "INFO: Parsing tables... [astroquery.utils.tap.core]\n",
      "INFO: Done. [astroquery.utils.tap.core]\n"
     ]
    }
   ],
   "source": [
    "tables=Gaia.load_tables(only_names=True)"
   ]
  },
  {
   "cell_type": "code",
   "execution_count": 5,
   "metadata": {},
   "outputs": [
    {
     "name": "stdout",
     "output_type": "stream",
     "text": [
      "external.apassdr9\n",
      "external.gaiadr2_astrophysical_parameters\n",
      "external.gaiadr2_geometric_distance\n",
      "external.gaiaedr3_distance\n",
      "external.gaiaedr3_gcns_main_1\n",
      "external.gaiaedr3_gcns_rejected_1\n",
      "external.gaiaedr3_spurious\n",
      "external.galex_ais\n",
      "external.ravedr5_com\n",
      "external.ravedr5_dr5\n",
      "external.ravedr5_gra\n",
      "external.ravedr5_on\n",
      "external.ravedr6\n",
      "external.sdssdr13_photoprimary\n",
      "external.skymapperdr1_master\n",
      "external.skymapperdr2_master\n",
      "external.tmass_xsc\n",
      "gaiadr1.aux_qso_icrf2_match\n",
      "gaiadr1.ext_phot_zero_point\n",
      "gaiadr1.allwise_best_neighbour\n",
      "gaiadr1.allwise_neighbourhood\n",
      "gaiadr1.gsc23_best_neighbour\n",
      "gaiadr1.gsc23_neighbourhood\n",
      "gaiadr1.ppmxl_best_neighbour\n",
      "gaiadr1.ppmxl_neighbourhood\n",
      "gaiadr1.sdss_dr9_best_neighbour\n",
      "gaiadr1.sdss_dr9_neighbourhood\n",
      "gaiadr1.tmass_best_neighbour\n",
      "gaiadr1.tmass_neighbourhood\n",
      "gaiadr1.ucac4_best_neighbour\n",
      "gaiadr1.ucac4_neighbourhood\n",
      "gaiadr1.urat1_best_neighbour\n",
      "gaiadr1.urat1_neighbourhood\n",
      "gaiadr1.cepheid\n",
      "gaiadr1.phot_variable_time_series_gfov\n",
      "gaiadr1.phot_variable_time_series_gfov_statistical_parameters\n",
      "gaiadr1.rrlyrae\n",
      "gaiadr1.variable_summary\n",
      "gaiadr1.allwise_original_valid\n",
      "gaiadr1.gsc23_original_valid\n",
      "gaiadr1.ppmxl_original_valid\n",
      "gaiadr1.sdssdr9_original_valid\n",
      "gaiadr1.tmass_original_valid\n",
      "gaiadr1.ucac4_original_valid\n",
      "gaiadr1.urat1_original_valid\n",
      "gaiadr1.gaia_source\n",
      "gaiadr1.tgas_source\n",
      "gaiadr2.aux_allwise_agn_gdr2_cross_id\n",
      "gaiadr2.aux_iers_gdr2_cross_id\n",
      "gaiadr2.aux_sso_orbit_residuals\n",
      "gaiadr2.aux_sso_orbits\n",
      "gaiadr2.dr1_neighbourhood\n",
      "gaiadr2.allwise_best_neighbour\n",
      "gaiadr2.allwise_neighbourhood\n",
      "gaiadr2.apassdr9_best_neighbour\n",
      "gaiadr2.apassdr9_neighbourhood\n",
      "gaiadr2.gsc23_best_neighbour\n",
      "gaiadr2.gsc23_neighbourhood\n",
      "gaiadr2.hipparcos2_best_neighbour\n",
      "gaiadr2.hipparcos2_neighbourhood\n",
      "gaiadr2.panstarrs1_best_neighbour\n",
      "gaiadr2.panstarrs1_neighbourhood\n",
      "gaiadr2.ppmxl_best_neighbour\n",
      "gaiadr2.ppmxl_neighbourhood\n",
      "gaiadr2.ravedr5_best_neighbour\n",
      "gaiadr2.ravedr5_neighbourhood\n",
      "gaiadr2.sdssdr9_best_neighbour\n",
      "gaiadr2.sdssdr9_neighbourhood\n",
      "gaiadr2.tmass_best_neighbour\n",
      "gaiadr2.tmass_neighbourhood\n",
      "gaiadr2.tycho2_best_neighbour\n",
      "gaiadr2.tycho2_neighbourhood\n",
      "gaiadr2.urat1_best_neighbour\n",
      "gaiadr2.urat1_neighbourhood\n",
      "gaiadr2.sso_observation\n",
      "gaiadr2.sso_source\n",
      "gaiadr2.vari_cepheid\n",
      "gaiadr2.vari_classifier_class_definition\n",
      "gaiadr2.vari_classifier_definition\n",
      "gaiadr2.vari_classifier_result\n",
      "gaiadr2.vari_long_period_variable\n",
      "gaiadr2.vari_rotation_modulation\n",
      "gaiadr2.vari_rrlyrae\n",
      "gaiadr2.vari_short_timescale\n",
      "gaiadr2.vari_time_series_statistics\n",
      "gaiadr2.panstarrs1_original_valid\n",
      "gaiadr2.gaia_source\n",
      "gaiadr2.ruwe\n",
      "gaiadr3.gaia_source\n",
      "gaiadr3.gaia_source_lite\n",
      "gaiadr3.astrophysical_parameters\n",
      "gaiadr3.astrophysical_parameters_supp\n",
      "gaiadr3.oa_neuron_information\n",
      "gaiadr3.oa_neuron_xp_spectra\n",
      "gaiadr3.total_galactic_extinction_map\n",
      "gaiadr3.total_galactic_extinction_map_opt\n",
      "gaiadr3.commanded_scan_law\n",
      "gaiadr3.allwise_best_neighbour\n",
      "gaiadr3.allwise_neighbourhood\n",
      "gaiadr3.apassdr9_best_neighbour\n",
      "gaiadr3.apassdr9_join\n",
      "gaiadr3.apassdr9_neighbourhood\n",
      "gaiadr3.dr2_neighbourhood\n",
      "gaiadr3.gsc23_best_neighbour\n",
      "gaiadr3.gsc23_join\n",
      "gaiadr3.gsc23_neighbourhood\n",
      "gaiadr3.hipparcos2_best_neighbour\n",
      "gaiadr3.hipparcos2_neighbourhood\n",
      "gaiadr3.panstarrs1_best_neighbour\n",
      "gaiadr3.panstarrs1_join\n",
      "gaiadr3.panstarrs1_neighbourhood\n",
      "gaiadr3.ravedr5_best_neighbour\n",
      "gaiadr3.ravedr5_join\n",
      "gaiadr3.ravedr5_neighbourhood\n",
      "gaiadr3.ravedr6_best_neighbour\n",
      "gaiadr3.ravedr6_join\n",
      "gaiadr3.ravedr6_neighbourhood\n",
      "gaiadr3.sdssdr13_best_neighbour\n",
      "gaiadr3.sdssdr13_join\n",
      "gaiadr3.sdssdr13_neighbourhood\n",
      "gaiadr3.skymapperdr2_best_neighbour\n",
      "gaiadr3.skymapperdr2_join\n",
      "gaiadr3.skymapperdr2_neighbourhood\n",
      "gaiadr3.tmass_psc_xsc_best_neighbour\n",
      "gaiadr3.tmass_psc_xsc_join\n",
      "gaiadr3.tmass_psc_xsc_neighbourhood\n",
      "gaiadr3.tycho2tdsc_merge_best_neighbour\n",
      "gaiadr3.tycho2tdsc_merge_neighbourhood\n",
      "gaiadr3.urat1_best_neighbour\n",
      "gaiadr3.urat1_neighbourhood\n",
      "gaiadr3.galaxy_candidates\n",
      "gaiadr3.galaxy_catalogue_name\n",
      "gaiadr3.qso_candidates\n",
      "gaiadr3.qso_catalogue_name\n",
      "gaiadr3.nss_acceleration_astro\n",
      "gaiadr3.nss_non_linear_spectro\n",
      "gaiadr3.nss_two_body_orbit\n",
      "gaiadr3.nss_vim_fl\n",
      "gaiadr3.binary_masses\n",
      "gaiadr3.chemical_cartography\n",
      "gaiadr3.gold_sample_carbon_stars\n",
      "gaiadr3.gold_sample_fgkm_stars\n",
      "gaiadr3.gold_sample_oba_stars\n",
      "gaiadr3.gold_sample_solar_analogues\n",
      "gaiadr3.gold_sample_spss\n",
      "gaiadr3.gold_sample_ucd\n",
      "gaiadr3.sso_orbits\n",
      "gaiadr3.synthetic_photometry_gspc\n",
      "gaiadr3.vari_spurious_signals\n",
      "gaiadr3.agn_cross_id\n",
      "gaiadr3.frame_rotator_source\n",
      "gaiadr3.gaia_crf3_xm\n",
      "gaiadr3.alerts_mixedin_sourceids\n",
      "gaiadr3.science_alerts\n",
      "gaiadr3.gaia_source_simulation\n",
      "gaiadr3.gaia_universe_model\n",
      "gaiadr3.sso_observation\n",
      "gaiadr3.sso_reflectance_spectrum\n",
      "gaiadr3.sso_source\n",
      "gaiadr3.xp_summary\n",
      "gaiadr3.vari_agn\n",
      "gaiadr3.vari_cepheid\n",
      "gaiadr3.vari_classifier_class_definition\n",
      "gaiadr3.vari_classifier_definition\n",
      "gaiadr3.vari_classifier_result\n",
      "gaiadr3.vari_compact_companion\n",
      "gaiadr3.vari_eclipsing_binary\n",
      "gaiadr3.vari_epoch_radial_velocity\n",
      "gaiadr3.vari_long_period_variable\n",
      "gaiadr3.vari_microlensing\n",
      "gaiadr3.vari_ms_oscillator\n",
      "gaiadr3.vari_planetary_transit\n",
      "gaiadr3.vari_planetary_transit_13june2022\n",
      "gaiadr3.vari_rad_vel_statistics\n",
      "gaiadr3.vari_rotation_modulation\n",
      "gaiadr3.vari_rrlyrae\n",
      "gaiadr3.vari_short_timescale\n",
      "gaiadr3.vari_summary\n",
      "gaiadr3.tycho2tdsc_merge\n",
      "gaiaedr3.gaia_source\n",
      "gaiaedr3.agn_cross_id\n",
      "gaiaedr3.commanded_scan_law\n",
      "gaiaedr3.dr2_neighbourhood\n",
      "gaiaedr3.frame_rotator_source\n",
      "gaiaedr3.allwise_best_neighbour\n",
      "gaiaedr3.allwise_neighbourhood\n",
      "gaiaedr3.apassdr9_best_neighbour\n",
      "gaiaedr3.apassdr9_join\n",
      "gaiaedr3.apassdr9_neighbourhood\n",
      "gaiaedr3.gsc23_best_neighbour\n",
      "gaiaedr3.gsc23_join\n",
      "gaiaedr3.gsc23_neighbourhood\n",
      "gaiaedr3.hipparcos2_best_neighbour\n",
      "gaiaedr3.hipparcos2_neighbourhood\n",
      "gaiaedr3.panstarrs1_best_neighbour\n",
      "gaiaedr3.panstarrs1_join\n",
      "gaiaedr3.panstarrs1_neighbourhood\n",
      "gaiaedr3.ravedr5_best_neighbour\n",
      "gaiaedr3.ravedr5_join\n",
      "gaiaedr3.ravedr5_neighbourhood\n",
      "gaiaedr3.sdssdr13_best_neighbour\n",
      "gaiaedr3.sdssdr13_join\n",
      "gaiaedr3.sdssdr13_neighbourhood\n",
      "gaiaedr3.skymapperdr2_best_neighbour\n",
      "gaiaedr3.skymapperdr2_join\n",
      "gaiaedr3.skymapperdr2_neighbourhood\n",
      "gaiaedr3.tmass_psc_xsc_best_neighbour\n",
      "gaiaedr3.tmass_psc_xsc_join\n",
      "gaiaedr3.tmass_psc_xsc_neighbourhood\n",
      "gaiaedr3.tycho2tdsc_merge_best_neighbour\n",
      "gaiaedr3.tycho2tdsc_merge_neighbourhood\n",
      "gaiaedr3.urat1_best_neighbour\n",
      "gaiaedr3.urat1_neighbourhood\n",
      "gaiaedr3.gaia_source_simulation\n",
      "gaiaedr3.gaia_universe_model\n",
      "gaiaedr3.tycho2tdsc_merge\n",
      "public.hipparcos\n",
      "public.hipparcos_newreduction\n",
      "public.hubble_sc\n",
      "public.igsl_source\n",
      "public.igsl_source_catalog_ids\n",
      "public.tycho2\n",
      "public.dual\n",
      "tap_config.coord_sys\n",
      "tap_config.properties\n",
      "tap_schema.columns\n",
      "tap_schema.key_columns\n",
      "tap_schema.keys\n",
      "tap_schema.schemas\n",
      "tap_schema.tables\n"
     ]
    }
   ],
   "source": [
    "for table in tables:\n",
    "    print(table.name)"
   ]
  },
  {
   "attachments": {},
   "cell_type": "markdown",
   "metadata": {},
   "source": [
    "The ones we will use are:\n",
    "\n",
    "`gaiadr2.gaia_source`, which contains Gaia data from data release 2,\n",
    "\n",
    "`gaiadr2.panstarrs1`_original_valid, which contains the photometry data we will use from PanSTARRS, and\n",
    "\n",
    "`gaiadr2.panstarrs1_best_neighbour`, which we will use to cross-match each star observed by Gaia with the same star observed by PanSTARRS."
   ]
  },
  {
   "cell_type": "code",
   "execution_count": 6,
   "metadata": {},
   "outputs": [
    {
     "name": "stdout",
     "output_type": "stream",
     "text": [
      "Retrieving table 'gaiadr2.gaia_source'\n"
     ]
    },
    {
     "data": {
      "text/plain": [
       "<astroquery.utils.tap.model.taptable.TapTableMeta at 0x11212f5b0>"
      ]
     },
     "execution_count": 6,
     "metadata": {},
     "output_type": "execute_result"
    }
   ],
   "source": [
    "table_metadata=Gaia.load_table('gaiadr2.gaia_source')\n",
    "table_metadata"
   ]
  },
  {
   "cell_type": "code",
   "execution_count": 7,
   "metadata": {},
   "outputs": [
    {
     "name": "stdout",
     "output_type": "stream",
     "text": [
      "TAP Table name: gaiadr2.gaiadr2.gaia_source\n",
      "Description: This table has an entry for every Gaia observed source as listed in the\n",
      "Main Database accumulating catalogue version from which the catalogue\n",
      "release has been generated. It contains the basic source parameters,\n",
      "that is only final data (no epoch data) and no spectra (neither final\n",
      "nor epoch).\n",
      "Num. columns: 95\n"
     ]
    }
   ],
   "source": [
    "print(table_metadata)"
   ]
  },
  {
   "attachments": {},
   "cell_type": "markdown",
   "metadata": {},
   "source": [
    "# Columns"
   ]
  },
  {
   "cell_type": "code",
   "execution_count": 8,
   "metadata": {},
   "outputs": [
    {
     "name": "stdout",
     "output_type": "stream",
     "text": [
      "solution_id\n",
      "designation\n",
      "source_id\n",
      "random_index\n",
      "ref_epoch\n",
      "ra\n",
      "ra_error\n",
      "dec\n",
      "dec_error\n",
      "parallax\n",
      "parallax_error\n",
      "parallax_over_error\n",
      "pmra\n",
      "pmra_error\n",
      "pmdec\n",
      "pmdec_error\n",
      "ra_dec_corr\n",
      "ra_parallax_corr\n",
      "ra_pmra_corr\n",
      "ra_pmdec_corr\n",
      "dec_parallax_corr\n",
      "dec_pmra_corr\n",
      "dec_pmdec_corr\n",
      "parallax_pmra_corr\n",
      "parallax_pmdec_corr\n",
      "pmra_pmdec_corr\n",
      "astrometric_n_obs_al\n",
      "astrometric_n_obs_ac\n",
      "astrometric_n_good_obs_al\n",
      "astrometric_n_bad_obs_al\n",
      "astrometric_gof_al\n",
      "astrometric_chi2_al\n",
      "astrometric_excess_noise\n",
      "astrometric_excess_noise_sig\n",
      "astrometric_params_solved\n",
      "astrometric_primary_flag\n",
      "astrometric_weight_al\n",
      "astrometric_pseudo_colour\n",
      "astrometric_pseudo_colour_error\n",
      "mean_varpi_factor_al\n",
      "astrometric_matched_observations\n",
      "visibility_periods_used\n",
      "astrometric_sigma5d_max\n",
      "frame_rotator_object_type\n",
      "matched_observations\n",
      "duplicated_source\n",
      "phot_g_n_obs\n",
      "phot_g_mean_flux\n",
      "phot_g_mean_flux_error\n",
      "phot_g_mean_flux_over_error\n",
      "phot_g_mean_mag\n",
      "phot_bp_n_obs\n",
      "phot_bp_mean_flux\n",
      "phot_bp_mean_flux_error\n",
      "phot_bp_mean_flux_over_error\n",
      "phot_bp_mean_mag\n",
      "phot_rp_n_obs\n",
      "phot_rp_mean_flux\n",
      "phot_rp_mean_flux_error\n",
      "phot_rp_mean_flux_over_error\n",
      "phot_rp_mean_mag\n",
      "phot_bp_rp_excess_factor\n",
      "phot_proc_mode\n",
      "bp_rp\n",
      "bp_g\n",
      "g_rp\n",
      "radial_velocity\n",
      "radial_velocity_error\n",
      "rv_nb_transits\n",
      "rv_template_teff\n",
      "rv_template_logg\n",
      "rv_template_fe_h\n",
      "phot_variable_flag\n",
      "l\n",
      "b\n",
      "ecl_lon\n",
      "ecl_lat\n",
      "priam_flags\n",
      "teff_val\n",
      "teff_percentile_lower\n",
      "teff_percentile_upper\n",
      "a_g_val\n",
      "a_g_percentile_lower\n",
      "a_g_percentile_upper\n",
      "e_bp_min_rp_val\n",
      "e_bp_min_rp_percentile_lower\n",
      "e_bp_min_rp_percentile_upper\n",
      "flame_flags\n",
      "radius_val\n",
      "radius_percentile_lower\n",
      "radius_percentile_upper\n",
      "lum_val\n",
      "lum_percentile_lower\n",
      "lum_percentile_upper\n",
      "datalink_url\n"
     ]
    }
   ],
   "source": [
    "for column in table_metadata.columns:\n",
    "    print(column.name)"
   ]
  },
  {
   "attachments": {},
   "cell_type": "markdown",
   "metadata": {},
   "source": [
    "Documentation for the above Columns: https://gea.esac.esa.int/archive/documentation/GDR2/Gaia_archive/chap_datamodel/sec_dm_main_tables/ssec_dm_gaia_source.html"
   ]
  },
  {
   "attachments": {},
   "cell_type": "markdown",
   "metadata": {},
   "source": [
    "# Writing queries"
   ]
  },
  {
   "attachments": {},
   "cell_type": "markdown",
   "metadata": {},
   "source": [
    "### Some Examples"
   ]
  },
  {
   "cell_type": "code",
   "execution_count": 28,
   "metadata": {},
   "outputs": [],
   "source": [
    "query1=\"\"\"SELECT \n",
    "TOP 10\n",
    "source_id, ra, dec, parallax\n",
    "FROM gaiadr2.gaia_source\n",
    "\"\"\""
   ]
  },
  {
   "cell_type": "code",
   "execution_count": 29,
   "metadata": {},
   "outputs": [],
   "source": [
    "job1=Gaia.launch_job(query1)"
   ]
  },
  {
   "cell_type": "code",
   "execution_count": 30,
   "metadata": {},
   "outputs": [
    {
     "name": "stdout",
     "output_type": "stream",
     "text": [
      "<Table length=10>\n",
      "   name    dtype  unit                            description                            \n",
      "--------- ------- ---- ------------------------------------------------------------------\n",
      "source_id   int64      Unique source identifier (unique within a particular Data Release)\n",
      "       ra float64  deg                                                    Right ascension\n",
      "      dec float64  deg                                                        Declination\n",
      " parallax float64  mas                                                           Parallax\n",
      "Jobid: None\n",
      "Phase: COMPLETED\n",
      "Owner: None\n",
      "Output file: 1685731357965O-result.vot.gz\n",
      "Results: None\n"
     ]
    }
   ],
   "source": [
    "print(job1)"
   ]
  },
  {
   "cell_type": "code",
   "execution_count": 31,
   "metadata": {},
   "outputs": [
    {
     "data": {
      "text/html": [
       "<div><i>Table length=10</i>\n",
       "<table id=\"table4866411296\" class=\"table-striped table-bordered table-condensed\">\n",
       "<thead><tr><th>source_id</th><th>ra</th><th>dec</th><th>parallax</th></tr></thead>\n",
       "<thead><tr><th></th><th>deg</th><th>deg</th><th>mas</th></tr></thead>\n",
       "<thead><tr><th>int64</th><th>float64</th><th>float64</th><th>float64</th></tr></thead>\n",
       "<tr><td>4464195329654279808</td><td>243.36304525767025</td><td>13.332207539188948</td><td>0.16439076081079823</td></tr>\n",
       "<tr><td>4464157602662621312</td><td>245.76072515952</td><td>15.362547713561668</td><td>-0.2110296432373516</td></tr>\n",
       "<tr><td>4464174164056625024</td><td>246.29390759706718</td><td>15.47257793268518</td><td>0.4746433256414075</td></tr>\n",
       "<tr><td>4464158186777864192</td><td>246.11665685784646</td><td>15.1492979577105</td><td>0.29595400139231925</td></tr>\n",
       "<tr><td>4464194092703698048</td><td>243.32130865040432</td><td>13.330617936122106</td><td>0.9563165300756201</td></tr>\n",
       "<tr><td>4464185571489765376</td><td>246.0771571149933</td><td>15.475361948153898</td><td>0.3581981880000272</td></tr>\n",
       "<tr><td>4464057757557728512</td><td>246.0506722084623</td><td>14.64822560418678</td><td>0.2130643096328948</td></tr>\n",
       "<tr><td>4464152311262771968</td><td>245.87683702199857</td><td>15.255548579139372</td><td>-0.40638837982933834</td></tr>\n",
       "<tr><td>4464241268624812672</td><td>243.88258608658998</td><td>13.903782305036847</td><td>-0.19420855523180477</td></tr>\n",
       "<tr><td>4464064419051281024</td><td>246.39883051914418</td><td>14.80697876478872</td><td>-1.4422448853355199</td></tr>\n",
       "</table></div>"
      ],
      "text/plain": [
       "<Table length=10>\n",
       "     source_id              ra                dec               parallax      \n",
       "                           deg                deg                 mas         \n",
       "       int64             float64            float64             float64       \n",
       "------------------- ------------------ ------------------ --------------------\n",
       "4464195329654279808 243.36304525767025 13.332207539188948  0.16439076081079823\n",
       "4464157602662621312    245.76072515952 15.362547713561668  -0.2110296432373516\n",
       "4464174164056625024 246.29390759706718  15.47257793268518   0.4746433256414075\n",
       "4464158186777864192 246.11665685784646   15.1492979577105  0.29595400139231925\n",
       "4464194092703698048 243.32130865040432 13.330617936122106   0.9563165300756201\n",
       "4464185571489765376  246.0771571149933 15.475361948153898   0.3581981880000272\n",
       "4464057757557728512  246.0506722084623  14.64822560418678   0.2130643096328948\n",
       "4464152311262771968 245.87683702199857 15.255548579139372 -0.40638837982933834\n",
       "4464241268624812672 243.88258608658998 13.903782305036847 -0.19420855523180477\n",
       "4464064419051281024 246.39883051914418  14.80697876478872  -1.4422448853355199"
      ]
     },
     "execution_count": 31,
     "metadata": {},
     "output_type": "execute_result"
    }
   ],
   "source": [
    "results1=job1.get_results()\n",
    "results1"
   ]
  },
  {
   "attachments": {},
   "cell_type": "markdown",
   "metadata": {},
   "source": [
    "# Asynchronous queries"
   ]
  },
  {
   "attachments": {},
   "cell_type": "markdown",
   "metadata": {},
   "source": [
    "`launch_job` asks the server to run the job “synchronously”, which normally means it runs immediately. But synchronous jobs are limited to 2000 rows. For queries that return more rows, you should run “asynchronously”, which mean they might take longer to get started.\n",
    "\n",
    "If you are not sure how many rows a query will return, you can use the SQL command `COUNT` to find out how many rows are in the result without actually returning them. We will see an example in the next lesson.\n",
    "\n",
    "The results of an asynchronous query are stored in a file on the server, so you can start a query and come back later to get the results. For anonymous users, files are kept for three days.\n",
    "\n",
    "As an example, let us try a query that is similar to `query1`, with these changes:\n",
    "\n",
    "It selects the first 3000 rows, so it is bigger than we should run synchronously.\n",
    "\n",
    "It selects two additional columns, `pmra` and `pmdec`, which are proper motions along the axes of `ra` and `dec`.\n",
    "\n",
    "It uses a new keyword, `WHERE`."
   ]
  },
  {
   "cell_type": "code",
   "execution_count": 34,
   "metadata": {},
   "outputs": [],
   "source": [
    "query2=\"\"\"\n",
    "SELECT TOP 3000\n",
    "source_id, ra, dec, pmra, pmdec, parallax\n",
    "FROM gaiadr2.gaia_source\n",
    "WHERE parallax <1\n",
    "\"\"\""
   ]
  },
  {
   "cell_type": "code",
   "execution_count": 35,
   "metadata": {},
   "outputs": [
    {
     "name": "stdout",
     "output_type": "stream",
     "text": [
      "INFO: Query finished. [astroquery.utils.tap.core]\n"
     ]
    }
   ],
   "source": [
    "job2=Gaia.launch_job_async(query2)"
   ]
  },
  {
   "cell_type": "code",
   "execution_count": 36,
   "metadata": {},
   "outputs": [
    {
     "data": {
      "text/html": [
       "<div><i>Table length=3000</i>\n",
       "<table id=\"table4868499872\" class=\"table-striped table-bordered table-condensed\">\n",
       "<thead><tr><th>source_id</th><th>ra</th><th>dec</th><th>pmra</th><th>pmdec</th><th>parallax</th></tr></thead>\n",
       "<thead><tr><th></th><th>deg</th><th>deg</th><th>mas / yr</th><th>mas / yr</th><th>mas</th></tr></thead>\n",
       "<thead><tr><th>int64</th><th>float64</th><th>float64</th><th>float64</th><th>float64</th><th>float64</th></tr></thead>\n",
       "<tr><td>4464195329654279808</td><td>243.36304525767025</td><td>13.332207539188948</td><td>-1.9836654839798653</td><td>-3.441298033102305</td><td>0.16439076081079823</td></tr>\n",
       "<tr><td>4464157602662621312</td><td>245.76072515952</td><td>15.362547713561668</td><td>6.479901956928507</td><td>2.4402691076146428</td><td>-0.2110296432373516</td></tr>\n",
       "<tr><td>4464174164056625024</td><td>246.29390759706718</td><td>15.47257793268518</td><td>4.866522777608916</td><td>-15.68232420624172</td><td>0.4746433256414075</td></tr>\n",
       "<tr><td>4464158186777864192</td><td>246.11665685784646</td><td>15.1492979577105</td><td>-8.436758190824952</td><td>0.15197524558621486</td><td>0.29595400139231925</td></tr>\n",
       "<tr><td>4464194092703698048</td><td>243.32130865040432</td><td>13.330617936122106</td><td>1.7000647673456717</td><td>-5.321352978282461</td><td>0.9563165300756201</td></tr>\n",
       "<tr><td>4464185571489765376</td><td>246.0771571149933</td><td>15.475361948153898</td><td>-5.726885024117942</td><td>-5.336187466029946</td><td>0.3581981880000272</td></tr>\n",
       "<tr><td>4464057757557728512</td><td>246.0506722084623</td><td>14.64822560418678</td><td>3.0113895465081773</td><td>0.4941345509804351</td><td>0.2130643096328948</td></tr>\n",
       "<tr><td>4464152311262771968</td><td>245.87683702199857</td><td>15.255548579139372</td><td>-2.6858663354910846</td><td>-3.537909854152293</td><td>-0.40638837982933834</td></tr>\n",
       "<tr><td>4464241268624812672</td><td>243.88258608658998</td><td>13.903782305036847</td><td>-11.17364343847565</td><td>-15.206698483999416</td><td>-0.19420855523180477</td></tr>\n",
       "<tr><td>...</td><td>...</td><td>...</td><td>...</td><td>...</td><td>...</td></tr>\n",
       "<tr><td>6725834883378092416</td><td>273.3088230322475</td><td>-39.749945506324906</td><td>-4.695448523596903</td><td>-5.574679129339478</td><td>-0.13909125164638095</td></tr>\n",
       "<tr><td>6725828144553623168</td><td>273.2910171038627</td><td>-39.962703033838395</td><td>-3.036910628017877</td><td>-1.2872392081609894</td><td>0.16850260196479175</td></tr>\n",
       "<tr><td>6725809899539840128</td><td>273.51103512081886</td><td>-40.14076843916654</td><td>-0.8883917996272648</td><td>-2.3954322958146275</td><td>0.5321461021832465</td></tr>\n",
       "<tr><td>2047235748364248320</td><td>294.9546597059744</td><td>34.43523488227614</td><td>-4.83871329264557</td><td>-5.6458640340503905</td><td>0.5393691852721573</td></tr>\n",
       "<tr><td>2047214509741885440</td><td>295.24098483113613</td><td>34.211656545951115</td><td>-2.793239172922573</td><td>-2.248799876288064</td><td>0.4680581832615711</td></tr>\n",
       "<tr><td>2047249492264160384</td><td>294.555194847184</td><td>34.198921617125606</td><td>-4.2980064969819765</td><td>-7.119269649560746</td><td>0.11749580828676684</td></tr>\n",
       "<tr><td>2047240593102815872</td><td>294.3428005194154</td><td>34.03508885458059</td><td>-4.1281392437821065</td><td>-10.214532150735327</td><td>-0.06605790006821927</td></tr>\n",
       "<tr><td>2047211078071154304</td><td>294.9798469313157</td><td>34.173458123150084</td><td>-1.0170045117766058</td><td>-4.353523618754814</td><td>0.1387006184628933</td></tr>\n",
       "<tr><td>2047220149057610112</td><td>295.12792194981273</td><td>34.37397168317838</td><td>-4.0684795747442575</td><td>-5.7462960061921375</td><td>0.17383453709077623</td></tr>\n",
       "<tr><td>2047212280659447040</td><td>295.20180227857117</td><td>34.14403877141493</td><td>-3.9075378399697187</td><td>-5.607754605464406</td><td>-1.0441285639346136</td></tr>\n",
       "</table></div>"
      ],
      "text/plain": [
       "<Table length=3000>\n",
       "     source_id              ra         ...       parallax      \n",
       "                           deg         ...         mas         \n",
       "       int64             float64       ...       float64       \n",
       "------------------- ------------------ ... --------------------\n",
       "4464195329654279808 243.36304525767025 ...  0.16439076081079823\n",
       "4464157602662621312    245.76072515952 ...  -0.2110296432373516\n",
       "4464174164056625024 246.29390759706718 ...   0.4746433256414075\n",
       "4464158186777864192 246.11665685784646 ...  0.29595400139231925\n",
       "4464194092703698048 243.32130865040432 ...   0.9563165300756201\n",
       "4464185571489765376  246.0771571149933 ...   0.3581981880000272\n",
       "4464057757557728512  246.0506722084623 ...   0.2130643096328948\n",
       "4464152311262771968 245.87683702199857 ... -0.40638837982933834\n",
       "4464241268624812672 243.88258608658998 ... -0.19420855523180477\n",
       "                ...                ... ...                  ...\n",
       "6725834883378092416  273.3088230322475 ... -0.13909125164638095\n",
       "6725828144553623168  273.2910171038627 ...  0.16850260196479175\n",
       "6725809899539840128 273.51103512081886 ...   0.5321461021832465\n",
       "2047235748364248320  294.9546597059744 ...   0.5393691852721573\n",
       "2047214509741885440 295.24098483113613 ...   0.4680581832615711\n",
       "2047249492264160384   294.555194847184 ...  0.11749580828676684\n",
       "2047240593102815872  294.3428005194154 ... -0.06605790006821927\n",
       "2047211078071154304  294.9798469313157 ...   0.1387006184628933\n",
       "2047220149057610112 295.12792194981273 ...  0.17383453709077623\n",
       "2047212280659447040 295.20180227857117 ...  -1.0441285639346136"
      ]
     },
     "execution_count": 36,
     "metadata": {},
     "output_type": "execute_result"
    }
   ],
   "source": [
    "results2=job2.get_results()\n",
    "results2"
   ]
  },
  {
   "attachments": {},
   "cell_type": "markdown",
   "metadata": {},
   "source": [
    "# Formatting Queries"
   ]
  },
  {
   "cell_type": "code",
   "execution_count": 37,
   "metadata": {},
   "outputs": [],
   "source": [
    "columns=\"source_id, ra, dec, pmra, pmdec, parallax\""
   ]
  },
  {
   "attachments": {},
   "cell_type": "markdown",
   "metadata": {},
   "source": [
    "<img src=\"/Users/darykevin/Documents/Python Scripts/Computational Cosmology/Project GD 1/HR_diagram.png\" alt=\"Alternative text\" width=\"500\" height=\"700\" />"
   ]
  },
  {
   "attachments": {},
   "cell_type": "markdown",
   "metadata": {},
   "source": [
    "Selecting stars with bp-rp less than 2 excludes many class M dwarf stars, which are low temperature, low luminosity. A star like that at GD-1’s distance would be hard to detect, so if it is detected, it is more likely to be in the foreground."
   ]
  },
  {
   "cell_type": "code",
   "execution_count": 38,
   "metadata": {},
   "outputs": [],
   "source": [
    "query3=\"\"\" SELECT TOP 10\n",
    "{columns}\n",
    "FROM gaiadr2.gaia_source\n",
    "WHERE parallax <1\n",
    "AND bp_rp BETWEEN -0.75 AND 2\"\"\""
   ]
  },
  {
   "cell_type": "code",
   "execution_count": 39,
   "metadata": {},
   "outputs": [
    {
     "data": {
      "text/plain": [
       "' SELECT TOP 10\\nsource_id, ra, dec, pmra, pmdec, parallax\\nFROM gaiadr2.gaia_source\\nWHERE parallax <1\\nAND bp_rp BETWEEN -0.75 AND 2'"
      ]
     },
     "execution_count": 39,
     "metadata": {},
     "output_type": "execute_result"
    }
   ],
   "source": [
    "query3=query3.format(columns=columns)\n",
    "query3"
   ]
  },
  {
   "cell_type": "code",
   "execution_count": 40,
   "metadata": {},
   "outputs": [
    {
     "name": "stdout",
     "output_type": "stream",
     "text": [
      "<Table length=10>\n",
      "   name    dtype    unit                              description                            \n",
      "--------- ------- -------- ------------------------------------------------------------------\n",
      "source_id   int64          Unique source identifier (unique within a particular Data Release)\n",
      "       ra float64      deg                                                    Right ascension\n",
      "      dec float64      deg                                                        Declination\n",
      "     pmra float64 mas / yr                         Proper motion in right ascension direction\n",
      "    pmdec float64 mas / yr                             Proper motion in declination direction\n",
      " parallax float64      mas                                                           Parallax\n",
      "Jobid: None\n",
      "Phase: COMPLETED\n",
      "Owner: None\n",
      "Output file: 1685731990799O-result.vot.gz\n",
      "Results: None\n"
     ]
    }
   ],
   "source": [
    "job3=Gaia.launch_job(query3)\n",
    "print(job3)"
   ]
  },
  {
   "cell_type": "code",
   "execution_count": 42,
   "metadata": {},
   "outputs": [
    {
     "data": {
      "text/html": [
       "<div><i>Table length=10</i>\n",
       "<table id=\"table4872654032\" class=\"table-striped table-bordered table-condensed\">\n",
       "<thead><tr><th>source_id</th><th>ra</th><th>dec</th><th>pmra</th><th>pmdec</th><th>parallax</th></tr></thead>\n",
       "<thead><tr><th></th><th>deg</th><th>deg</th><th>mas / yr</th><th>mas / yr</th><th>mas</th></tr></thead>\n",
       "<thead><tr><th>int64</th><th>float64</th><th>float64</th><th>float64</th><th>float64</th><th>float64</th></tr></thead>\n",
       "<tr><td>6725808009741940480</td><td>273.17908989875764</td><td>-39.9464599145662</td><td>-4.763421349823547</td><td>-3.1671256260016243</td><td>0.27107092129252375</td></tr>\n",
       "<tr><td>6725819795153008512</td><td>273.64952999832826</td><td>-39.898698059653825</td><td>1.995212556106932</td><td>-5.473334902836648</td><td>-0.11170829458268661</td></tr>\n",
       "<tr><td>6725833057995766144</td><td>273.2679408037531</td><td>-39.81001469238666</td><td>1.1657806220579898</td><td>-4.225823249922288</td><td>0.38741746385371456</td></tr>\n",
       "<tr><td>6725833474628857216</td><td>273.26880788551847</td><td>-39.766418648097634</td><td>-4.9329609090146125</td><td>-9.292457646065472</td><td>0.20075597784055013</td></tr>\n",
       "<tr><td>6725814061379648128</td><td>273.4126714598531</td><td>-40.0920894608883</td><td>1.2514248617350647</td><td>-7.9231515410884725</td><td>-1.0023170624324504</td></tr>\n",
       "<tr><td>6725818837380516736</td><td>273.7318590986313</td><td>-39.94040387189232</td><td>0.71025181687897</td><td>-5.908201588687049</td><td>-0.18843068573328728</td></tr>\n",
       "<tr><td>6725835330061105024</td><td>273.3393751409501</td><td>-39.695827893114206</td><td>-4.674772721278769</td><td>-6.6055155859672645</td><td>0.03076702290736852</td></tr>\n",
       "<tr><td>6725816707089652608</td><td>273.58337552942976</td><td>-39.9351404480872</td><td>2.842964587277978</td><td>-4.363070413630373</td><td>0.42608338663754725</td></tr>\n",
       "<tr><td>6725819009181693056</td><td>273.7207739519278</td><td>-39.94731370570193</td><td>-3.967013292691153</td><td>-7.573539586422121</td><td>-0.6161683124331785</td></tr>\n",
       "<tr><td>6725824742951191808</td><td>273.6115368793055</td><td>-39.75584209165188</td><td>-0.8607634533600077</td><td>-3.278258842018733</td><td>0.6032374398687986</td></tr>\n",
       "</table></div>"
      ],
      "text/plain": [
       "<Table length=10>\n",
       "     source_id              ra         ...       parallax      \n",
       "                           deg         ...         mas         \n",
       "       int64             float64       ...       float64       \n",
       "------------------- ------------------ ... --------------------\n",
       "6725808009741940480 273.17908989875764 ...  0.27107092129252375\n",
       "6725819795153008512 273.64952999832826 ... -0.11170829458268661\n",
       "6725833057995766144  273.2679408037531 ...  0.38741746385371456\n",
       "6725833474628857216 273.26880788551847 ...  0.20075597784055013\n",
       "6725814061379648128  273.4126714598531 ...  -1.0023170624324504\n",
       "6725818837380516736  273.7318590986313 ... -0.18843068573328728\n",
       "6725835330061105024  273.3393751409501 ...  0.03076702290736852\n",
       "6725816707089652608 273.58337552942976 ...  0.42608338663754725\n",
       "6725819009181693056  273.7207739519278 ...  -0.6161683124331785\n",
       "6725824742951191808  273.6115368793055 ...   0.6032374398687986"
      ]
     },
     "execution_count": 42,
     "metadata": {},
     "output_type": "execute_result"
    }
   ],
   "source": [
    "results3=job3.get_results()\n",
    "results3"
   ]
  },
  {
   "cell_type": "code",
   "execution_count": null,
   "metadata": {},
   "outputs": [],
   "source": []
  }
 ],
 "metadata": {
  "kernelspec": {
   "display_name": "base",
   "language": "python",
   "name": "python3"
  },
  "language_info": {
   "codemirror_mode": {
    "name": "ipython",
    "version": 3
   },
   "file_extension": ".py",
   "mimetype": "text/x-python",
   "name": "python",
   "nbconvert_exporter": "python",
   "pygments_lexer": "ipython3",
   "version": "3.9.13"
  },
  "orig_nbformat": 4
 },
 "nbformat": 4,
 "nbformat_minor": 2
}
